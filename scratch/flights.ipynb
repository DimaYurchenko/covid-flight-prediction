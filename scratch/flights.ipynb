{
 "cells": [
  {
   "cell_type": "code",
   "execution_count": 12,
   "metadata": {},
   "outputs": [
    {
     "name": "stdout",
     "output_type": "stream",
     "text": [
      "     DateTime  Scheduled flights\n",
      "0  2022-01-20                 21\n",
      "1  2022-01-21                 18\n",
      "2  2022-01-22                 31\n",
      "3  2022-01-23                 24\n",
      "4  2022-01-24                 21\n",
      "     DateTime  Scheduled flights\n",
      "0  2022-01-20                  9\n",
      "1  2022-01-21                 24\n",
      "2  2022-01-22                 14\n",
      "3  2022-01-23                 21\n",
      "4  2022-01-24                 21\n",
      "     DateTime  Scheduled flights\n",
      "0  2022-01-20                146\n",
      "1  2022-01-21                149\n",
      "2  2022-01-22                125\n",
      "3  2022-01-23                137\n",
      "4  2022-01-24                144\n"
     ]
    },
    {
     "name": "stderr",
     "output_type": "stream",
     "text": [
      "/tmp/ipykernel_39025/2642321879.py:7: FutureWarning: In a future version of pandas all arguments of DataFrame.drop except for the argument 'labels' will be keyword-only\n",
      "  epkt = epkt.drop('Tracked flights', 1)\n",
      "/tmp/ipykernel_39025/2642321879.py:8: FutureWarning: In a future version of pandas all arguments of DataFrame.drop except for the argument 'labels' will be keyword-only\n",
      "  epmo = epmo.drop('Tracked flights', 1)\n",
      "/tmp/ipykernel_39025/2642321879.py:9: FutureWarning: In a future version of pandas all arguments of DataFrame.drop except for the argument 'labels' will be keyword-only\n",
      "  epwa = epwa.drop('Tracked flights', 1)\n"
     ]
    }
   ],
   "source": [
    "import pandas\n",
    "\n",
    "epkt = pandas.read_csv('EPKT.csv')\n",
    "epmo = pandas.read_csv('EPMO.csv')\n",
    "epwa = pandas.read_csv('EPWA.csv')\n",
    "\n",
    "epkt = epkt.drop('Tracked flights', 1)\n",
    "epmo = epmo.drop('Tracked flights', 1)\n",
    "epwa = epwa.drop('Tracked flights', 1)\n",
    "\n",
    "print(epkt.head())\n",
    "print(epmo.head())\n",
    "print(epwa.head())"
   ]
  },
  {
   "cell_type": "code",
   "execution_count": 13,
   "metadata": {},
   "outputs": [
    {
     "name": "stderr",
     "output_type": "stream",
     "text": [
      "/tmp/ipykernel_39025/3541534736.py:4: SettingWithCopyWarning: \n",
      "A value is trying to be set on a copy of a slice from a DataFrame\n",
      "\n",
      "See the caveats in the documentation: https://pandas.pydata.org/pandas-docs/stable/user_guide/indexing.html#returning-a-view-versus-a-copy\n",
      "  df['Scheduled flights'][index] = epkt['Scheduled flights'][index] + epmo['Scheduled flights'][index] + epwa['Scheduled flights'][index]\n"
     ]
    }
   ],
   "source": [
    "df = epkt.copy()\n",
    "\n",
    "for index, row in epkt.iterrows():\n",
    "    df['Scheduled flights'][index] = epkt['Scheduled flights'][index] + epmo['Scheduled flights'][index] + epwa['Scheduled flights'][index] \n",
    "df.to_csv('../raw_data/raw_arrivals_data/arrivals_recent.csv')"
   ]
  }
 ],
 "metadata": {
  "interpreter": {
   "hash": "e7370f93d1d0cde622a1f8e1c04877d8463912d04d973331ad4851f04de6915a"
  },
  "kernelspec": {
   "display_name": "Python 3.8.10 64-bit",
   "language": "python",
   "name": "python3"
  },
  "language_info": {
   "codemirror_mode": {
    "name": "ipython",
    "version": 3
   },
   "file_extension": ".py",
   "mimetype": "text/x-python",
   "name": "python",
   "nbconvert_exporter": "python",
   "pygments_lexer": "ipython3",
   "version": "3.8.10"
  },
  "orig_nbformat": 4
 },
 "nbformat": 4,
 "nbformat_minor": 2
}
