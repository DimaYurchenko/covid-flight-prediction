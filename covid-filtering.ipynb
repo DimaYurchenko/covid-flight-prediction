{
 "cells": [
  {
   "cell_type": "code",
   "execution_count": 4,
   "metadata": {},
   "outputs": [],
   "source": [
    "import pandas\n",
    "\n",
    "data = pandas.read_csv('raw_data/covid_data_raw.csv')\n",
    "\n",
    "data = data.drop(data[data['location'] != 'Poland'].index)\n"
   ]
  },
  {
   "cell_type": "code",
   "execution_count": 6,
   "metadata": {},
   "outputs": [
    {
     "data": {
      "text/html": [
       "<div>\n",
       "<style scoped>\n",
       "    .dataframe tbody tr th:only-of-type {\n",
       "        vertical-align: middle;\n",
       "    }\n",
       "\n",
       "    .dataframe tbody tr th {\n",
       "        vertical-align: top;\n",
       "    }\n",
       "\n",
       "    .dataframe thead th {\n",
       "        text-align: right;\n",
       "    }\n",
       "</style>\n",
       "<table border=\"1\" class=\"dataframe\">\n",
       "  <thead>\n",
       "    <tr style=\"text-align: right;\">\n",
       "      <th></th>\n",
       "      <th>location</th>\n",
       "      <th>date</th>\n",
       "      <th>total_cases</th>\n",
       "      <th>new_cases</th>\n",
       "      <th>total_deaths</th>\n",
       "      <th>new_deaths</th>\n",
       "    </tr>\n",
       "  </thead>\n",
       "  <tbody>\n",
       "    <tr>\n",
       "      <th>100382</th>\n",
       "      <td>Poland</td>\n",
       "      <td>2020-03-04</td>\n",
       "      <td>1.0</td>\n",
       "      <td>1.0</td>\n",
       "      <td>NaN</td>\n",
       "      <td>NaN</td>\n",
       "    </tr>\n",
       "    <tr>\n",
       "      <th>100383</th>\n",
       "      <td>Poland</td>\n",
       "      <td>2020-03-05</td>\n",
       "      <td>1.0</td>\n",
       "      <td>0.0</td>\n",
       "      <td>NaN</td>\n",
       "      <td>NaN</td>\n",
       "    </tr>\n",
       "    <tr>\n",
       "      <th>100384</th>\n",
       "      <td>Poland</td>\n",
       "      <td>2020-03-06</td>\n",
       "      <td>5.0</td>\n",
       "      <td>4.0</td>\n",
       "      <td>NaN</td>\n",
       "      <td>NaN</td>\n",
       "    </tr>\n",
       "    <tr>\n",
       "      <th>100385</th>\n",
       "      <td>Poland</td>\n",
       "      <td>2020-03-07</td>\n",
       "      <td>5.0</td>\n",
       "      <td>0.0</td>\n",
       "      <td>NaN</td>\n",
       "      <td>NaN</td>\n",
       "    </tr>\n",
       "    <tr>\n",
       "      <th>100386</th>\n",
       "      <td>Poland</td>\n",
       "      <td>2020-03-08</td>\n",
       "      <td>11.0</td>\n",
       "      <td>6.0</td>\n",
       "      <td>NaN</td>\n",
       "      <td>NaN</td>\n",
       "    </tr>\n",
       "    <tr>\n",
       "      <th>...</th>\n",
       "      <td>...</td>\n",
       "      <td>...</td>\n",
       "      <td>...</td>\n",
       "      <td>...</td>\n",
       "      <td>...</td>\n",
       "      <td>...</td>\n",
       "    </tr>\n",
       "    <tr>\n",
       "      <th>101023</th>\n",
       "      <td>Poland</td>\n",
       "      <td>2021-12-05</td>\n",
       "      <td>3671421.0</td>\n",
       "      <td>22394.0</td>\n",
       "      <td>85675.0</td>\n",
       "      <td>45.0</td>\n",
       "    </tr>\n",
       "    <tr>\n",
       "      <th>101024</th>\n",
       "      <td>Poland</td>\n",
       "      <td>2021-12-06</td>\n",
       "      <td>3684671.0</td>\n",
       "      <td>13250.0</td>\n",
       "      <td>85700.0</td>\n",
       "      <td>25.0</td>\n",
       "    </tr>\n",
       "    <tr>\n",
       "      <th>101025</th>\n",
       "      <td>Poland</td>\n",
       "      <td>2021-12-07</td>\n",
       "      <td>3704040.0</td>\n",
       "      <td>19369.0</td>\n",
       "      <td>86205.0</td>\n",
       "      <td>505.0</td>\n",
       "    </tr>\n",
       "    <tr>\n",
       "      <th>101026</th>\n",
       "      <td>Poland</td>\n",
       "      <td>2021-12-08</td>\n",
       "      <td>3732589.0</td>\n",
       "      <td>28549.0</td>\n",
       "      <td>86796.0</td>\n",
       "      <td>591.0</td>\n",
       "    </tr>\n",
       "    <tr>\n",
       "      <th>101027</th>\n",
       "      <td>Poland</td>\n",
       "      <td>2021-12-09</td>\n",
       "      <td>3760048.0</td>\n",
       "      <td>27459.0</td>\n",
       "      <td>87357.0</td>\n",
       "      <td>561.0</td>\n",
       "    </tr>\n",
       "  </tbody>\n",
       "</table>\n",
       "<p>646 rows × 6 columns</p>\n",
       "</div>"
      ],
      "text/plain": [
       "       location        date  total_cases  new_cases  total_deaths  new_deaths\n",
       "100382   Poland  2020-03-04          1.0        1.0           NaN         NaN\n",
       "100383   Poland  2020-03-05          1.0        0.0           NaN         NaN\n",
       "100384   Poland  2020-03-06          5.0        4.0           NaN         NaN\n",
       "100385   Poland  2020-03-07          5.0        0.0           NaN         NaN\n",
       "100386   Poland  2020-03-08         11.0        6.0           NaN         NaN\n",
       "...         ...         ...          ...        ...           ...         ...\n",
       "101023   Poland  2021-12-05    3671421.0    22394.0       85675.0        45.0\n",
       "101024   Poland  2021-12-06    3684671.0    13250.0       85700.0        25.0\n",
       "101025   Poland  2021-12-07    3704040.0    19369.0       86205.0       505.0\n",
       "101026   Poland  2021-12-08    3732589.0    28549.0       86796.0       591.0\n",
       "101027   Poland  2021-12-09    3760048.0    27459.0       87357.0       561.0\n",
       "\n",
       "[646 rows x 6 columns]"
      ]
     },
     "execution_count": 6,
     "metadata": {},
     "output_type": "execute_result"
    }
   ],
   "source": [
    "data = data.filter(['location', 'date', 'total_cases', 'new_cases', 'total_deaths', 'new_deaths'])\n",
    "data.to_csv('covid_poland.csv')"
   ]
  },
  {
   "cell_type": "code",
   "execution_count": 41,
   "metadata": {},
   "outputs": [
    {
     "data": {
      "text/plain": [
       "<AxesSubplot:xlabel='date'>"
      ]
     },
     "execution_count": 41,
     "metadata": {},
     "output_type": "execute_result"
    },
    {
     "data": {
      "image/png": "[encoded data removed]",
      "text/plain": [
       "<Figure size 432x288 with 1 Axes>"
      ]
     },
     "metadata": {
      "needs_background": "light"
     },
     "output_type": "display_data"
    }
   ],
   "source": [
    "data['date'] = pandas.to_datetime(data['date'])\n",
    "data.plot(x = 'date' , y = 'new_cases')\n"
   ]
  }
 ],
 "metadata": {
  "interpreter": {
   "hash": "e7370f93d1d0cde622a1f8e1c04877d8463912d04d973331ad4851f04de6915a"
  },
  "kernelspec": {
   "display_name": "Python 3.8.10 64-bit",
   "language": "python",
   "name": "python3"
  },
  "language_info": {
   "codemirror_mode": {
    "name": "ipython",
    "version": 3
   },
   "file_extension": ".py",
   "mimetype": "text/x-python",
   "name": "python",
   "nbconvert_exporter": "python",
   "pygments_lexer": "ipython3",
   "version": "3.8.10"
  },
  "orig_nbformat": 4
 },
 "nbformat": 4,
 "nbformat_minor": 2
}
